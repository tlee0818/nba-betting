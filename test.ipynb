{
 "cells": [
  {
   "cell_type": "code",
   "execution_count": null,
   "metadata": {},
   "outputs": [],
   "source": [
    "# EXAMPLES OF GETTING \n",
    "import players_fn as p\n",
    "\n",
    "JOKIC_ID = \"203999\"\n",
    "CLIPPERS_ID = \"1610612746\"\n",
    "\n",
    "player_ids = p.get_player_ids_by_team_id(CLIPPERS_ID)\n",
    "get_players_stats = p.get_players_stats(player_ids, season=\"2023-24\", last_n_games=10, opp_team_id=None)\n",
    "get_players_stats"
   ]
  },
  {
   "cell_type": "code",
   "execution_count": null,
   "metadata": {},
   "outputs": [],
   "source": [
    "import player_props as pp\n",
    "\n",
    "MIL_V_PHIL = \"98ab7ab789b2c45808a55c4f6c624130\"\n",
    "POINTS_MARKET = \"player_points_over_under\"\n",
    "\n",
    "odds = pp.get_player_props(MIL_V_PHIL, POINTS_MARKET)\n",
    "\n",
    "odds\n"
   ]
  }
 ],
 "metadata": {
  "kernelspec": {
   "display_name": "env",
   "language": "python",
   "name": "python3"
  },
  "language_info": {
   "codemirror_mode": {
    "name": "ipython",
    "version": 3
   },
   "file_extension": ".py",
   "mimetype": "text/x-python",
   "name": "python",
   "nbconvert_exporter": "python",
   "pygments_lexer": "ipython3",
   "version": "3.10.9"
  },
  "orig_nbformat": 4
 },
 "nbformat": 4,
 "nbformat_minor": 2
}
